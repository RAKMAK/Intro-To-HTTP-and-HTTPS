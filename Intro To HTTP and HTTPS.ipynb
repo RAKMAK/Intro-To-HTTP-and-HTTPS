{
 "cells": [
  {
   "cell_type": "markdown",
   "metadata": {
    "slideshow": {
     "slide_type": "slide"
    }
   },
   "source": [
    "# Intro To HTTP and HTTPS\n",
    "Let's get acquinted with thr most popular protocols on internet."
   ]
  },
  {
   "cell_type": "markdown",
   "metadata": {
    "slideshow": {
     "slide_type": "slide"
    }
   },
   "source": [
    "Hypertext Transfer Protocol (HTTP) is the foundation of data communication for the World Wide Web and Hypertext Transfer Protocol Secure (HTTPS) is an extension of the Hypertext Transfer Protocol (HTTP). In HTTPS, the communication protocol is encrypted using Transport Layer Security (TLS), or, formerly, its predecessor, Secure Sockets Layer (SSL). The protocol is therefore also often referred to as HTTP over TLS, or HTTP over SSL."
   ]
  },
  {
   "cell_type": "markdown",
   "metadata": {
    "slideshow": {
     "slide_type": "slide"
    }
   },
   "source": [
    "# What happens behind the scenes when we type google.com in a browser?"
   ]
  },
  {
   "cell_type": "markdown",
   "metadata": {
    "slideshow": {
     "slide_type": "fragment"
    }
   },
   "source": [
    "- [Parse the URL](#parse-the-url)"
   ]
  },
  {
   "cell_type": "markdown",
   "metadata": {
    "slideshow": {
     "slide_type": "fragment"
    }
   },
   "source": [
    "- [Check HSTS list](#check-hsts-list)"
   ]
  },
  {
   "cell_type": "markdown",
   "metadata": {
    "slideshow": {
     "slide_type": "fragment"
    }
   },
   "source": [
    "- [DNS lookup](#dns-lookup)"
   ]
  },
  {
   "cell_type": "markdown",
   "metadata": {
    "slideshow": {
     "slide_type": "fragment"
    }
   },
   "source": [
    "- [Opening of a socket + TLS handshake](#opening-of-a-socket--tls-handshake)"
   ]
  },
  {
   "cell_type": "markdown",
   "metadata": {
    "slideshow": {
     "slide_type": "fragment"
    }
   },
   "source": [
    "- [HTTP protocol](#http-protocol)"
   ]
  },
  {
   "cell_type": "markdown",
   "metadata": {
    "slideshow": {
     "slide_type": "fragment"
    }
   },
   "source": [
    "- [HTTP Server Request Handle](#http-server-request-handle)"
   ]
  },
  {
   "cell_type": "markdown",
   "metadata": {
    "slideshow": {
     "slide_type": "fragment"
    }
   },
   "source": [
    "- [Server Response](#server-response)"
   ]
  },
  {
   "cell_type": "markdown",
   "metadata": {
    "slideshow": {
     "slide_type": "fragment"
    }
   },
   "source": [
    "- [Browser](#browser)"
   ]
  },
  {
   "cell_type": "markdown",
   "metadata": {
    "slideshow": {
     "slide_type": "slide"
    }
   },
   "source": [
    "## Parse the URL\n",
    "\n",
    "The browser now has the following information contained in the URL (Uniform Resource Locator):\n",
    "* Protocol \"http\": Use 'Hyper Text Transfer Protocol'\n",
    "* Resource \"/\": Retrieve main (index) page\n",
    "\n",
    "When no protocol or valid domain name is given the browser proceeds to feed the text given in the address box to the browser's default web search engine. "
   ]
  },
  {
   "cell_type": "markdown",
   "metadata": {
    "slideshow": {
     "slide_type": "slide"
    }
   },
   "source": [
    "## Check HSTS list\n",
    "\n",
    "* The browser checks its \"preloaded HSTS (HTTP Strict Transport Security)\" list. This is a list of websites that have requested to be contacted via HTTPS only.\n",
    "* If the website is in the list, the browser sends its request via HTTPS instead of HTTP. Otherwise, the initial request is sent via HTTP. \n",
    "\n",
    "Note: The website can still use the HSTS policy without being in the HSTS list. The first HTTP request to the website by a user will receive a response requesting that the user only send HTTPS requests. However, this single HTTP request could potentially leave the user vulnerable to a [downgrade attack](http://www.yourdictionary.com/downgrade-attack), which is why the HSTS list is included in modern web browsers."
   ]
  },
  {
   "cell_type": "markdown",
   "metadata": {
    "slideshow": {
     "slide_type": "slide"
    }
   },
   "source": [
    "## DNS lookup\n",
    "\n",
    "The browser tries to figure out the IP address for the entered domain. The DNS lookup proceeds as follows:\n",
    "\n",
    "* **Browser cache:** The browser caches DNS records for some time. Interestingly, the OS does not tell the browser the time-to-live for each DNS record, and so the browser caches them for a fixed duration (varies between browsers, 2 – 30 minutes).\n",
    "* **OS cache:** If the browser cache does not contain the desired record, the browser makes a system call (gethostbyname in Windows). The OS has its own cache.\n",
    "* **Router cache:** The request continues on to your router, which typically has its own DNS cache.\n",
    "* **ISP DNS cache:** The next place checked is the cache ISP’s DNS server. With a cache, naturally.\n",
    "* **Recursive search:** Your ISP’s DNS server begins a recursive search, from the root nameserver, through the .com top-level nameserver, to Google’s nameserver. Normally, the DNS server will have names of the .com nameservers in cache, and so a hit to the root nameserver will not be necessary."
   ]
  },
  {
   "cell_type": "markdown",
   "metadata": {
    "slideshow": {
     "slide_type": "subslide"
    }
   },
   "source": [
    "Here is a diagram of what a recursive DNS search looks like:\n",
    "\n",
    "<p align=\"center\">\n",
    "  <img src=\"http://igoro.com/wordpress/wp-content/uploads/2010/02/500pxAn_example_of_theoretical_DNS_recursion_svg.png\" alt=\"Recursive DNS search\"/>\n",
    "</p>"
   ]
  },
  {
   "cell_type": "markdown",
   "metadata": {
    "slideshow": {
     "slide_type": "subslide"
    }
   },
   "source": [
    "One worrying thing about DNS is that the entire domain like wikipedia.org or facebook.com seems to map to a single IP address. Fortunately, there are ways of mitigating the bottleneck:\n",
    "\n",
    "* **Round-robin DNS** is a solution where the DNS lookup returns multiple IP addresses, rather than just one. For example, facebook.com actually maps to four IP addresses.\n",
    "* **Load-balancer** is the piece of hardware that listens on a particular IP address and forwards the requests to other servers. Major sites will typically use expensive high-performance load balancers.\n",
    "* **Geographic DNS** improves scalability by mapping a domain name to different IP addresses, depending on the client’s geographic location. This is great for hosting static content so that different servers don’t have to update shared state.\n",
    "* **Anycast** is a routing technique where a single IP address maps to multiple physical servers. Unfortunately, anycast does not fit well with TCP and is rarely used in that scenario.\n",
    "\n",
    "Most of the DNS servers themselves use anycast to achieve high availability and low latency of the DNS lookups. Users of an anycast service (DNS is an excellent example) will always connect to the 'closest' (from a routing protocol perspective) DNS server. This reduces latency, as well as providing a level of load-balancing (assuming that your consumers are evenly distributed around your network)."
   ]
  },
  {
   "cell_type": "markdown",
   "metadata": {
    "slideshow": {
     "slide_type": "slide"
    }
   },
   "source": [
    "## Opening of a socket + TLS handshake"
   ]
  },
  {
   "cell_type": "markdown",
   "metadata": {
    "slideshow": {
     "slide_type": "fragment"
    }
   },
   "source": [
    "- Once the browser receives the IP address of the destination server, it takes that and the given port number from the URL (the HTTP protocol defaults to port 80, and HTTPS to port 443), and makes a call to the system library function named socket and requests a [TCP](http://www.webopedia.com/TERM/T/TCP.html) [socket](http://www.webopedia.com/TERM/S/socket.html) stream."
   ]
  },
  {
   "cell_type": "markdown",
   "metadata": {
    "slideshow": {
     "slide_type": "fragment"
    }
   },
   "source": [
    "- The client computer sends a ClientHello message to the server with its TLS version, list of cipher algorithms and compression methods available."
   ]
  },
  {
   "cell_type": "markdown",
   "metadata": {
    "slideshow": {
     "slide_type": "fragment"
    }
   },
   "source": [
    "- The server replies with a ServerHello message to the client with the TLS version, selected cipher, selected compression methods and the server's public certificate signed by a CA (Certificate Authority). The certificate contains a public key that will be used by the client to encrypt the rest of the handshake until a symmetric key can be agreed upon.\n"
   ]
  },
  {
   "cell_type": "markdown",
   "metadata": {
    "slideshow": {
     "slide_type": "fragment"
    }
   },
   "source": [
    "- The client verifies the server digital certificate against its list of trusted CAs. If trust can be established based on the CA, the client generates a string of pseudo-random bytes and encrypts this with the server's public key. These random bytes can be used to determine the symmetric key."
   ]
  },
  {
   "cell_type": "markdown",
   "metadata": {
    "slideshow": {
     "slide_type": "fragment"
    }
   },
   "source": [
    "- The server decrypts the random bytes using its private key and uses these bytes to generate its own copy of the symmetric master key."
   ]
  },
  {
   "cell_type": "markdown",
   "metadata": {
    "slideshow": {
     "slide_type": "fragment"
    }
   },
   "source": [
    "- The client sends a Finished message to the server, encrypting a hash of the transmission up to this point with the symmetric key."
   ]
  },
  {
   "cell_type": "markdown",
   "metadata": {
    "slideshow": {
     "slide_type": "fragment"
    }
   },
   "source": [
    "- The server generates its own hash, and then decrypts the client-sent hash to verify that it matches. If it does, it sends its own Finished message to the client, also encrypted with the symmetric key."
   ]
  },
  {
   "cell_type": "markdown",
   "metadata": {
    "slideshow": {
     "slide_type": "fragment"
    }
   },
   "source": [
    "- From now on the TLS session transmits the application (HTTP) data encrypted with the agreed symmetric key."
   ]
  },
  {
   "cell_type": "markdown",
   "metadata": {
    "slideshow": {
     "slide_type": "slide"
    }
   },
   "source": [
    "# HTTP protocol\n",
    "\n",
    "You can be pretty sure that dynamic sites such as Facebook/Gmail will not be served from the browser cache because dynamic pages expire either very quickly or immediately (expiry date set to past).\n",
    "\n",
    "If the web browser used was written by Google, instead of sending an HTTP request to retrieve the page, it will send a request to try and negotiate with the server an \"upgrade\" from HTTP to the SPDY protocol. Note that SPDY is being deprecated in favor of HTTP/2 in latest versions of Chrome."
   ]
  },
  {
   "cell_type": "markdown",
   "metadata": {
    "slideshow": {
     "slide_type": "subslide"
    }
   },
   "source": [
    "```txt\n",
    "GET http://www.google.com/ HTTP/1.1\n",
    "Accept: application/x-ms-application, image/jpeg, application/xaml+xml, [...]\n",
    "User-Agent: Mozilla/4.0 (compatible; MSIE 8.0; Windows NT 6.1; WOW64; [...]\n",
    "Accept-Encoding: gzip, deflate\n",
    "Connection: Keep-Alive\n",
    "Host: google.com\n",
    "Cookie: datr=1265876274-[...]; locale=en_US; lsd=WW[...]; c_user=2101[...]\n",
    "```"
   ]
  },
  {
   "cell_type": "markdown",
   "metadata": {
    "slideshow": {
     "slide_type": "subslide"
    }
   },
   "source": [
    "![Client State Machine](https://h11.readthedocs.io/en/latest/_static/CLIENT.svg)"
   ]
  },
  {
   "cell_type": "markdown",
   "metadata": {
    "slideshow": {
     "slide_type": "subslide"
    }
   },
   "source": [
    "The GET request names the URL to fetch: “http://www.google.com/”. The browser identifies itself (User-Agent header), and states what types of responses it will accept (Accept and Accept-Encoding headers). The Connection header asks the server to keep the TCP connection open for further requests.\n",
    "\n",
    "The request also contains the cookies that the browser has for this domain. As you probably already know, cookies are key-value pairs that track the state of a web site in between different page requests. And so the cookies store the name of the logged-in user, a secret number that was assigned to the user by the server, some of user’s settings, etc. The cookies will be stored in a text file on the client, and sent to the server with every request.\n",
    "\n",
    "HTTP/1.1 defines the \"close\" connection option for the sender to signal that the connection will be closed after completion of the response. For example, Connection: close.\n",
    "\n",
    "After sending the request and headers, the web browser sends a single blank newline to the server indicating that the content of the request is done. The server responds with a response code denoting the status of the request and responds with a response of the form: **200 OK [response headers]**"
   ]
  },
  {
   "cell_type": "markdown",
   "metadata": {
    "slideshow": {
     "slide_type": "subslide"
    }
   },
   "source": [
    "Followed by a single newline, and then sends a payload of the HTML content of www.google.com. The server may then either close the connection, or if headers sent by the client requested it, keep the connection open to be reused for further requests.\n",
    "\n",
    "If the HTTP headers sent by the web browser included sufficient information for the web server to determine if the version of the file cached by the web browser has been unmodified since the last retrieval (ie. if the web browser included an ETag header), it may instead respond with a request of the form: **304 Not Modified [response headers]** and no payload, and the web browser instead retrieves the HTML from its cache.\n",
    "\n",
    "After parsing the HTML, the web browser (and server) repeats this process for every resource (image, CSS, favicon.ico, etc) referenced by the HTML page, except instead of GET / HTTP/1.1 the request will be **GET /$(URL relative to www.google.com) HTTP/1.1.**\n",
    "\n",
    "If the HTML referenced a resource on a different domain than www.google.com, the web browser goes back to the steps involved in resolving the other domain, and follows all steps up to this point for that domain. The Host header in the request will be set to the appropriate server name instead of google.com."
   ]
  },
  {
   "cell_type": "markdown",
   "metadata": {
    "slideshow": {
     "slide_type": "subslide"
    }
   },
   "source": [
    "**Gotcha:** \n",
    "* The trailing slash in the URL “http://facebook.com/” is important. In this case, the browser can safely add the slash. For URLs of the form http://example.com/folderOrFile, the browser cannot automatically add a slash, because it is not clear whether folderOrFile is a folder or a file. In such cases, the browser will visit the URL without the slash, and the server will respond with a redirect, resulting in an unnecessary roundtrip.\n",
    "* The server might respond with a 301 Moved Permanently response to tell the browser to go to “http://www.google.com/” instead of “http://google.com/”. There are interesting reasons why the server insists on the redirect instead of immediately responding with the web page that the user wants to see.\n",
    "One reason has to do with search engine rankings. See, if there are two URLs for the same page, say http://www.vasanth.com/ and http://vasanth.com/, search engine may consider them to be two different sites, each with fewer incoming links and thus a lower ranking. Search engines understand permanent redirects (301), and will combine the incoming links from both sources into a single ranking. \n",
    "Also, multiple URLs for the same content are not cache-friendly. When a piece of content has multiple names, it will potentially appear multiple times in caches."
   ]
  },
  {
   "cell_type": "markdown",
   "metadata": {
    "slideshow": {
     "slide_type": "subslide"
    }
   },
   "source": [
    "**Note:**\n",
    "HTTP response starts with the returned status code from the server. Following is a very brief summary of what a status code denotes:        \n",
    "  * 1xx indicates an informational message only\n",
    "  * 2xx indicates success of some kind\n",
    "  * 3xx redirects the client to another URL\n",
    "  * 4xx indicates an error on the client's part\n",
    "  * 5xx indicates an error on the server's part"
   ]
  },
  {
   "cell_type": "code",
   "execution_count": null,
   "metadata": {
    "slideshow": {
     "slide_type": "slide"
    }
   },
   "outputs": [],
   "source": [
    "import socket\n",
    "import ssl\n",
    "\n",
    "import h11\n",
    "\n",
    "ctx = ssl.create_default_context()\n",
    "sock = ctx.wrap_socket(socket.create_connection((\"httpbin.org\", 443)), server_hostname=\"httpbin.org\")\n",
    "\n",
    "conn = h11.Connection(our_role=h11.CLIENT)\n",
    "request = h11.Request(method=\"GET\", target=\"/xml\", headers=[(\"Host\", \"httpbin.org\")])\n",
    "\n",
    "bytes_to_send = conn.send(request) \n",
    "\n",
    "print(\"-----------Clent Request------------\")\n",
    "print(bytes_to_send.decode())\n",
    "\n",
    "sock.sendall(bytes_to_send)\n",
    "\n",
    "end_of_message_bytes_to_send = conn.send(h11.EndOfMessage())\n",
    "sock.sendall(end_of_message_bytes_to_send)\n",
    "\n",
    "print(end_of_message_bytes_to_send, end=\"\\n \\n\")\n",
    "\n",
    "print(\"-----------Server Response------------\")\n",
    "\n",
    "\n",
    "bytes_received = sock.recv(1024)\n",
    "conn.receive_data(bytes_received)\n",
    "print(conn.next_event())\n",
    "print(conn.next_event())\n",
    "print(conn.next_event())"
   ]
  },
  {
   "cell_type": "markdown",
   "metadata": {
    "slideshow": {
     "slide_type": "slide"
    }
   },
   "source": [
    "# HTTP Server Request Handle\n",
    "\n",
    "The HTTPD (HTTP Daemon) server is the one handling the requests/responses on the server side. The most common HTTPD servers are Apache or nginx for Linux and IIS for Windows.\n",
    "\n",
    "* The HTTPD (HTTP Daemon) receives the request.\n",
    "\n",
    "* The server breaks down the request to the following parameters:\n",
    "    * HTTP Request Method (either GET, POST, HEAD, PUT and DELETE). In the case of a URL entered directly into the address bar, this will be GET.\n",
    "    * Domain, in this case - google.com.\n",
    "    * Requested path/page, in this case - / (as no specific path/page was requested, / is the default path).\n",
    "    * The server verifies that there is a Virtual Host configured on the server that corresponds with google.com.\n",
    "\n",
    "* The server verifies that google.com can accept GET requests.\n",
    "\n",
    "* The server verifies that the client is allowed to use this method (by IP, authentication, etc.).\n",
    "\n",
    "* If the server has a rewrite module installed (like mod_rewrite for Apache or URL Rewrite for IIS), it tries to match the request against one of the configured rules. If a matching rule is found, the server uses that rule to rewrite the request.\n",
    "\n",
    "* The server goes to pull the content that corresponds with the request, in our case it will fall back to the index file, as \"/\" is the main file (some cases can override this, but this is the most common method).\n",
    "\n",
    "* The server parses the file according to the request handler. A request handler is a program (in ASP.NET, PHP, Ruby, …) that reads the request and generates the HTML for the response. If Google is running on PHP, the server uses PHP to interpret the index file, and streams the output to the client."
   ]
  },
  {
   "cell_type": "markdown",
   "metadata": {
    "slideshow": {
     "slide_type": "slide"
    }
   },
   "source": [
    "# Server Response\n",
    "\n",
    "Here is the response that the server generated and sent back:\n",
    "\n",
    "```txt\n",
    "HTTP/1.1 200 OK\n",
    "Cache-Control: private, no-store, no-cache, must-revalidate, post-check=0,\n",
    "    pre-check=0\n",
    "Expires: Sat, 01 Jan 2000 00:00:00 GMT\n",
    "P3P: CP=\"DSP LAW\"\n",
    "Pragma: no-cache\n",
    "Content-Encoding: gzip\n",
    "Content-Type: text/html; charset=utf-8\n",
    "X-Cnection: close\n",
    "Transfer-Encoding: chunked\n",
    "Date: Fri, 12 Feb 2010 09:05:55 GMT\n",
    "\n",
    "2b3\n",
    "��������T�n�@����[...]\n",
    "```\n",
    "\n",
    "The entire response is 36 kB, the bulk of them in the byte blob at the end that I trimmed."
   ]
  },
  {
   "cell_type": "markdown",
   "metadata": {
    "slideshow": {
     "slide_type": "subslide"
    }
   },
   "source": [
    "\n",
    "The **Content-Encoding** header tells the browser that the response body is compressed using the gzip algorithm. After decompressing the blob, you’ll see the HTML you’d expect:\n",
    "\n",
    "```html\n",
    "<!DOCTYPE html PUBLIC \"-//W3C//DTD XHTML 1.0 Strict//EN\"   \n",
    "      \"http://www.w3.org/TR/xhtml1/DTD/xhtml1-strict.dtd\">\n",
    "<html xmlns=\"http://www.w3.org/1999/xhtml\" xml:lang=\"en\" \n",
    "      lang=\"en\" id=\"google\" class=\" no_js\">\n",
    "<head>\n",
    "<meta http-equiv=\"Content-type\" content=\"text/html; charset=utf-8\" />\n",
    "<meta http-equiv=\"Content-language\" content=\"en\" />\n",
    "...\n",
    "```\n",
    "\n",
    "Notice the header that sets Content-Type to text/html. The header instructs the browser to render the response content as HTML, instead of say downloading it as a file. The browser will use the header to decide how to interpret the response, but will consider other factors as well, such as the extension of the URL."
   ]
  },
  {
   "cell_type": "markdown",
   "metadata": {
    "slideshow": {
     "slide_type": "subslide"
    }
   },
   "source": [
    "![Server State Machine](https://h11.readthedocs.io/en/latest/_static/SERVER.svg)"
   ]
  },
  {
   "cell_type": "code",
   "execution_count": null,
   "metadata": {
    "slideshow": {
     "slide_type": "slide"
    }
   },
   "outputs": [],
   "source": [
    "import json\n",
    "from itertools import count\n",
    "from wsgiref.handlers import format_date_time\n",
    "\n",
    "import trio\n",
    "import h11\n",
    "\n",
    "MAX_RECV = 2 ** 16\n",
    "TIMEOUT = 10\n",
    "\n",
    "class TrioHTTPWrapper:\n",
    "    _next_id = count()\n",
    "\n",
    "    def __init__(self, stream):\n",
    "        self.stream = stream\n",
    "        self.conn = h11.Connection(h11.SERVER)\n",
    "        # Our Server: header\n",
    "        self.ident = \" \".join([\n",
    "            \"h11-example-trio-server/{}\".format(h11.__version__),\n",
    "            h11.PRODUCT_ID,\n",
    "        ]).encode(\"ascii\")\n",
    "        self._obj_id = next(TrioHTTPWrapper._next_id)\n",
    "\n",
    "    async def send(self, event):\n",
    "        assert type(event) is not h11.ConnectionClosed\n",
    "        data = self.conn.send(event)\n",
    "        await self.stream.send_all(data)\n",
    "\n",
    "    async def _read_from_peer(self):\n",
    "        if self.conn.they_are_waiting_for_100_continue:\n",
    "            self.info(\"Sending 100 Continue\")\n",
    "            go_ahead = h11.InformationalResponse(\n",
    "                status_code=100,\n",
    "                headers=self.basic_headers())\n",
    "            await self.send(go_ahead)\n",
    "        try:\n",
    "            data = await self.stream.receive_some(MAX_RECV)\n",
    "        except ConnectionError:\n",
    "            data = b\"\"\n",
    "        self.conn.receive_data(data)\n",
    "\n",
    "    async def next_event(self):\n",
    "        while True:\n",
    "            event = self.conn.next_event()\n",
    "            if event is h11.NEED_DATA:\n",
    "                await self._read_from_peer()\n",
    "                continue\n",
    "            return event\n",
    "\n",
    "    async def shutdown_and_clean_up(self):\n",
    "        try:\n",
    "            await self.stream.send_eof()\n",
    "        except trio.BrokenStreamError:\n",
    "            # They're already gone, nothing to do\n",
    "            return\n",
    "        with trio.move_on_after(TIMEOUT):\n",
    "            try:\n",
    "                while True:\n",
    "                    # Attempt to read until EOF\n",
    "                    got = await self.stream.receive_some(MAX_RECV)\n",
    "                    if not got:\n",
    "                        break\n",
    "            finally:\n",
    "                await self.stream.aclose()\n",
    "\n",
    "    def basic_headers(self):\n",
    "        return [\n",
    "            (\"Date\", format_date_time(None).encode(\"ascii\")),\n",
    "            (\"Server\", self.ident),\n",
    "        ]\n",
    "\n",
    "    def info(self, *args):\n",
    "        # Little debugging method\n",
    "        print(\"{}:\".format(self._obj_id), *args)\n",
    "\n",
    "async def http_serve(stream):\n",
    "    wrapper = TrioHTTPWrapper(stream)\n",
    "    wrapper.info(\"Got new connection\")\n",
    "    while True:\n",
    "        assert wrapper.conn.states == {\n",
    "            h11.CLIENT: h11.IDLE, h11.SERVER: h11.IDLE}\n",
    "\n",
    "        try:\n",
    "            with trio.fail_after(TIMEOUT):\n",
    "                wrapper.info(\"Server main loop waiting for request\")\n",
    "                event = await wrapper.next_event()\n",
    "                wrapper.info(\"Server main loop got event:\", event)\n",
    "                if type(event) is h11.Request:\n",
    "                    await send_echo_response(wrapper, event)\n",
    "        except Exception as exc:\n",
    "            wrapper.info(\"Error during response handler:\", exc)\n",
    "            await maybe_send_error_response(wrapper, exc)\n",
    "\n",
    "        if wrapper.conn.our_state is h11.MUST_CLOSE:\n",
    "            wrapper.info(\"connection is not reusable, so shutting down\")\n",
    "            await wrapper.shutdown_and_clean_up()\n",
    "            return\n",
    "        else:\n",
    "            try:\n",
    "                wrapper.info(\"trying to re-use connection\")\n",
    "                wrapper.conn.start_next_cycle()\n",
    "            except h11.ProtocolError:\n",
    "                states = wrapper.conn.states\n",
    "                wrapper.info(\"unexpected state\", states, \"-- bailing out\")\n",
    "                await maybe_send_error_response(\n",
    "                    wrapper,\n",
    "                    RuntimeError(\"unexpected state {}\".format(states)))\n",
    "                await wrapper.shutdown_and_clean_up()\n",
    "                return\n",
    "\n",
    "async def send_simple_response(wrapper, status_code, content_type, body):\n",
    "    wrapper.info(\"Sending\", status_code,\n",
    "                 \"response with\", len(body), \"bytes\")\n",
    "    headers = wrapper.basic_headers()\n",
    "    headers.append((\"Content-Type\", content_type))\n",
    "    headers.append((\"Content-Length\", str(len(body))))\n",
    "    res = h11.Response(status_code=status_code, headers=headers)\n",
    "    await wrapper.send(res)\n",
    "    await wrapper.send(h11.Data(data=body))\n",
    "    await wrapper.send(h11.EndOfMessage())\n",
    "\n",
    "async def maybe_send_error_response(wrapper, exc):\n",
    "    wrapper.info(\"trying to send error response...\")\n",
    "    if wrapper.conn.our_state not in {h11.IDLE, h11.SEND_RESPONSE}:\n",
    "        wrapper.info(\"...but I can't, because our state is\",\n",
    "                     wrapper.conn.our_state)\n",
    "        return\n",
    "    try:\n",
    "        if isinstance(exc, h11.RemoteProtocolError):\n",
    "            status_code = exc.error_status_hint\n",
    "        elif isinstance(exc, trio.TooSlowError):\n",
    "            status_code = 408  # Request Timeout\n",
    "        else:\n",
    "            status_code = 500\n",
    "        body = str(exc).encode(\"utf-8\")\n",
    "        await send_simple_response(wrapper,\n",
    "                                   status_code,\n",
    "                                   \"text/plain; charset=utf-8\",\n",
    "                                   body)\n",
    "    except Exception as exc:\n",
    "        wrapper.info(\"error while sending error response:\", exc)\n",
    "\n",
    "async def send_echo_response(wrapper, request):\n",
    "    wrapper.info(\"Preparing echo response\")\n",
    "    if request.method not in {b\"GET\", b\"POST\"}:\n",
    "        # Laziness: we should send a proper 405 Method Not Allowed with the\n",
    "        # appropriate Accept: header, but we don't.\n",
    "        raise RuntimeError(\"unsupported method\")\n",
    "    response_json = {\n",
    "        \"method\": request.method.decode(\"ascii\"),\n",
    "        \"target\": request.target.decode(\"ascii\"),\n",
    "        \"headers\": [(name.decode(\"ascii\"), value.decode(\"ascii\"))\n",
    "                    for (name, value) in request.headers],\n",
    "        \"body\": \"\",\n",
    "    }\n",
    "    while True:\n",
    "        event = await wrapper.next_event()\n",
    "        if type(event) is h11.EndOfMessage:\n",
    "            break\n",
    "        assert type(event) is h11.Data\n",
    "        response_json[\"body\"] += event.data.decode(\"ascii\")\n",
    "    response_body_unicode = json.dumps(response_json,\n",
    "                                       sort_keys=True,\n",
    "                                       indent=4,\n",
    "                                       separators=(\",\", \": \"))\n",
    "    response_body_bytes = response_body_unicode.encode(\"utf-8\")\n",
    "    await send_simple_response(wrapper,\n",
    "                               200,\n",
    "                               \"application/json; charset=utf-8\",\n",
    "                               response_body_bytes)\n",
    "\n",
    "async def serve(port):\n",
    "    print(\"listening on http://localhost:{}\".format(port))\n",
    "    try:\n",
    "        await trio.serve_tcp(http_serve, port)\n",
    "    except KeyboardInterrupt:\n",
    "        print(\"KeyboardInterrupt - shutting down\")\n",
    "\n",
    "if __name__ == \"__main__\":\n",
    "    trio.run(serve, 8080)"
   ]
  },
  {
   "cell_type": "markdown",
   "metadata": {
    "slideshow": {
     "slide_type": "slide"
    }
   },
   "source": [
    "![Special States](https://h11.readthedocs.io/en/latest/_static/special-states.svg)"
   ]
  },
  {
   "cell_type": "markdown",
   "metadata": {
    "slideshow": {
     "slide_type": "slide"
    }
   },
   "source": [
    "# More reading\n",
    "\n",
    "- [What really happens when you navigate to a URL](http://igoro.com/archive/what-really-happens-when-you-navigate-to-a-url/)\n",
    "- [How Browsers Work](http://www.html5rocks.com/en/tutorials/internals/howbrowserswork/)\n",
    "- [So how does the browser actually render a website](https://www.youtube.com/watch?v=SmE4OwHztCc)\n",
    "- [Constructing the Object Model](https://developers.google.com/web/fundamentals/performance/critical-rendering-path/constructing-the-object-model)\n",
    "- [h11 - Sans-I/O Liberary for HTTP 1.1](https://h11.readthedocs.io/en/latest/index.html)\n",
    "- [h2 - Sans-I/O Liberary for HTTP 2](https://python-hyper.org/projects/h2/en/stable/)\n",
    "- [End to End Encryption](https://youtu.be/jkV1KEJGKRA)\n",
    "- [Secret Key Exchange (Diffie-Hellman)](https://youtu.be/NmM9HA2MQGI)\n",
    "- [Elliptic Curves](https://youtu.be/NF1pwjL9-DE)"
   ]
  }
 ],
 "metadata": {
  "celltoolbar": "Slideshow",
  "kernelspec": {
   "display_name": "Python 3",
   "language": "python",
   "name": "python3"
  },
  "language_info": {
   "codemirror_mode": {
    "name": "ipython",
    "version": 3
   },
   "file_extension": ".py",
   "mimetype": "text/x-python",
   "name": "python",
   "nbconvert_exporter": "python",
   "pygments_lexer": "ipython3",
   "version": "3.7.3"
  }
 },
 "nbformat": 4,
 "nbformat_minor": 2
}
